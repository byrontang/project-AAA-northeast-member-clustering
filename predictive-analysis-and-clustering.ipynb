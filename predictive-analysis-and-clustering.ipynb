{
 "cells": [
  {
   "cell_type": "markdown",
   "metadata": {},
   "source": [
    "# AAA Northeast Customer Clustering"
   ]
  },
  {
   "cell_type": "code",
   "execution_count": 1,
   "metadata": {},
   "outputs": [],
   "source": [
    "%matplotlib inline\n",
    "import numpy as np\n",
    "import pandas as pd\n",
    "import matplotlib.pyplot as plt"
   ]
  },
  {
   "cell_type": "code",
   "execution_count": 2,
   "metadata": {},
   "outputs": [
    {
     "name": "stdout",
     "output_type": "stream",
     "text": [
      "<class 'pandas.core.frame.DataFrame'>\n",
      "RangeIndex: 3511 entries, 0 to 3510\n",
      "Columns: 237 entries, Household Key to x5_Young City Solos\n",
      "dtypes: float64(236), int64(1)\n",
      "memory usage: 6.3 MB\n"
     ]
    }
   ],
   "source": [
    "df = pd.read_csv('../project-AAA-northeast-member-clustering/data/processed_data.csv')\n",
    "df.info()"
   ]
  },
  {
   "cell_type": "code",
   "execution_count": 3,
   "metadata": {},
   "outputs": [
    {
     "data": {
      "text/plain": [
       "Index(['Household Key', 'ERS Member Cost Year 3 sum',\n",
       "       'ERS Member Cost Year 3 mean', 'Length Of Residence mean',\n",
       "       'Number of Children mean', 'ERS Member Cost Year 2 sum',\n",
       "       'ERS Member Cost Year 2 mean', 'Cost 2014 sum', 'Cost 2016 sum',\n",
       "       'ERS ENT Count Year 3 sum', 'ERS ENT Count Year 3 mean',\n",
       "       'Mail Responder mean', 'Cost 2015 sum', 'PrimaryMember sum',\n",
       "       'ERS ENT Count Year 1 sum', 'ERS ENT Count Year 1 mean',\n",
       "       'Email Available mean', 'Income mean', 'ERS Member Cost Year 1 sum',\n",
       "       'ERS Member Cost Year 1 mean', 'Cost 2019 sum', 'Credit Ranges mean',\n",
       "       'Member Tenure Years mean', 'AssociateMember sum', 'Cost 2018 sum',\n",
       "       'Total Cost sum', 'Member Key count', 'Do Not Direct Mail Solicit mean',\n",
       "       'Cost 2017 sum', 'ERS ENT Count Year 2 sum'],\n",
       "      dtype='object')"
      ]
     },
     "execution_count": 3,
     "metadata": {},
     "output_type": "execute_result"
    }
   ],
   "source": [
    "df.columns[:30]"
   ]
  },
  {
   "cell_type": "code",
   "execution_count": 4,
   "metadata": {},
   "outputs": [],
   "source": [
    "df = df.rename(columns = {'FSV CMSI Flag': 'FSV CMSI', \n",
    "                          'FSV Credit Card Flag': 'FSV Credit Card', \n",
    "                          'FSV Deposit Program Flag': 'FSV Deposit Program', \n",
    "                          'FSV Home Equity Flag': 'FSV Home Equity',\n",
    "                          'FSV ID Theft Flag': 'FSV ID Theft',\n",
    "                          'FSV Mortgage Flag': 'FSV Mortgage',\n",
    "                          'INS Client Flag': 'INS Client', \n",
    "                          'TRV Globalware Flag': 'TRV Globalware',\n",
    "                          'New Mover Flag': 'New Mover'})"
   ]
  },
  {
   "cell_type": "markdown",
   "metadata": {},
   "source": [
    "## Data Exploration\n",
    "### Product Usage\n",
    "Only a small portion of households using the products. The most used product has lower than 30% of the usage."
   ]
  },
  {
   "cell_type": "code",
   "execution_count": 5,
   "metadata": {},
   "outputs": [],
   "source": [
    "product_list = ['FSV CMSI', 'FSV Credit Card', 'FSV Deposit Program', \n",
    "                'FSV Home Equity', 'FSV ID Theft', 'FSV Mortgage',\n",
    "                'INS Client', 'TRV Globalware', 'New Mover']"
   ]
  },
  {
   "cell_type": "code",
   "execution_count": 6,
   "metadata": {},
   "outputs": [
    {
     "data": {
      "image/png": "[encoded data removed]",
      "text/plain": [
       "<matplotlib.figure.Figure at 0x156325059b0>"
      ]
     },
     "metadata": {
      "needs_background": "light"
     },
     "output_type": "display_data"
    }
   ],
   "source": [
    "#plt.rcParams[\"figure.figsize\"] = [4,6]\n",
    "df_product_pct = pd.DataFrame({'Percent of Usage': df[product_list].mean()}\n",
    "                             ).join(pd.DataFrame({'Count of Usage': df[product_list].sum()}))\n",
    "df_product_pct[['Percent of Usage']].sort_values(['Percent of Usage']).plot(kind='barh')\n",
    "plt.show()"
   ]
  },
  {
   "cell_type": "markdown",
   "metadata": {},
   "source": [
    "Around 45% of the households do not use any products from AAA Northeast."
   ]
  },
  {
   "cell_type": "code",
   "execution_count": 7,
   "metadata": {},
   "outputs": [
    {
     "data": {
      "text/plain": [
       "0.0    1589\n",
       "1.0    1220\n",
       "2.0     539\n",
       "3.0     135\n",
       "4.0      25\n",
       "5.0       3\n",
       "dtype: int64"
      ]
     },
     "execution_count": 7,
     "metadata": {},
     "output_type": "execute_result"
    }
   ],
   "source": [
    "# Number of products bought by household\n",
    "df[product_list].sum(axis=1).value_counts()"
   ]
  },
  {
   "cell_type": "code",
   "execution_count": 8,
   "metadata": {},
   "outputs": [
    {
     "data": {
      "text/plain": [
       "0.4525776132156081"
      ]
     },
     "execution_count": 8,
     "metadata": {},
     "output_type": "execute_result"
    }
   ],
   "source": [
    "1589/3511"
   ]
  },
  {
   "cell_type": "markdown",
   "metadata": {},
   "source": [
    "## Predictive Analysis\n",
    "We could use classification models to predict the probability of an household buying a product on the products with more than 1% of household usage. The models build on these products should have be better in generalization than other low-usage products.\n",
    "\n",
    "For all products with over 5% user, apply the following process for modeling:\n",
    "- Upsampling\n",
    "- Create training & test set based on upsampled dataset\n",
    "- Grid search using Decision Tree (Set the max of depth to 10 instead of None to avoid overfitting)\n",
    "- Apply bagging with 100 estimators using decision tree and best parameters"
   ]
  },
  {
   "cell_type": "code",
   "execution_count": 9,
   "metadata": {},
   "outputs": [],
   "source": [
    "from sklearn.utils import resample\n",
    "from sklearn.model_selection import train_test_split\n",
    "\n",
    "from sklearn.tree import DecisionTreeClassifier\n",
    "from sklearn.ensemble import BaggingClassifier\n",
    "\n",
    "from sklearn.model_selection import GridSearchCV\n",
    "from sklearn.metrics import accuracy_score\n",
    "from sklearn.metrics import roc_auc_score"
   ]
  },
  {
   "cell_type": "code",
   "execution_count": 10,
   "metadata": {
    "scrolled": false
   },
   "outputs": [
    {
     "name": "stdout",
     "output_type": "stream",
     "text": [
      "==== FSV CMSI ====\n",
      "1.0    3221\n",
      "0.0    3221\n",
      "Name: FSV CMSI, dtype: int64\n",
      "\n",
      "== Decision Tree ==\n",
      "Best Parameters: {'max_depth': 12, 'min_samples_split': 4, 'criterion': 'gini'}\n",
      "Accuracy on Training Set: 0.8628026329419077\n",
      "Accuracy on Test Set: 0.8541505042668736 AUC: 0.9021040974529346\n",
      "Accuracy on Original Dataset: 0.8154371973796639 AUC: 0.9360040253080539\n",
      "\n",
      "== Decision Tree + Bagging ==\n",
      "Accuracy on Training Set: 0.9644867067727537\n",
      "Accuracy on Test Set: 0.9317300232738557 AUC: 0.9887837642640475\n",
      "Accuracy on Original Dataset: 0.9447450868698376 AUC: 0.9909703561755291\n",
      "Prediction Count:\n",
      "0.0    3049\n",
      "1.0     462\n",
      "dtype: int64 \n",
      "\n",
      "==== FSV Credit Card ====\n",
      "1.0    3033\n",
      "0.0    3033\n",
      "Name: FSV Credit Card, dtype: int64\n",
      "\n",
      "== Decision Tree ==\n",
      "Best Parameters: {'max_depth': 12, 'min_samples_split': 3, 'criterion': 'gini'}\n",
      "Accuracy on Training Set: 0.7462915264314608\n",
      "Accuracy on Test Set: 0.7413509060955519 AUC: 0.7979096157134367\n",
      "Accuracy on Original Dataset: 0.7157504984334947 AUC: 0.8601192323769085\n",
      "\n",
      "== Decision Tree + Bagging ==\n",
      "Accuracy on Training Set: 0.9194146743610883\n",
      "Accuracy on Test Set: 0.8657331136738056 AUC: 0.9553832416426697\n",
      "Accuracy on Original Dataset: 0.8550270578182854 AUC: 0.9718921707797216\n",
      "Prediction Count:\n",
      "0.0    2568\n",
      "1.0     943\n",
      "dtype: int64 \n",
      "\n",
      "==== FSV Deposit Program ====\n",
      "1.0    3488\n",
      "0.0    3488\n",
      "Name: FSV Deposit Program, dtype: int64\n",
      "\n",
      "== Decision Tree ==\n",
      "Best Parameters: {'max_depth': 12, 'min_samples_split': 4, 'criterion': 'entropy'}\n",
      "Accuracy on Training Set: 0.9320788530465951\n",
      "Accuracy on Test Set: 0.8982808022922636 AUC: 0.9413551612876742\n",
      "Accuracy on Original Dataset: 0.8194246653375107 AUC: 0.9521901176705225\n",
      "\n",
      "== Decision Tree + Bagging ==\n",
      "Accuracy on Training Set: 0.9548387096774194\n",
      "Accuracy on Test Set: 0.9598853868194842 AUC: 0.9996859631694321\n",
      "Accuracy on Original Dataset: 0.9122757049273711 AUC: 0.9994702333466293\n",
      "Prediction Count:\n",
      "0.0    3180\n",
      "1.0     331\n",
      "dtype: int64 \n",
      "\n",
      "==== FSV Home Equity ====\n",
      "1.0    3508\n",
      "0.0    3508\n",
      "Name: FSV Home Equity, dtype: int64\n",
      "\n",
      "== Decision Tree ==\n",
      "Best Parameters: {'max_depth': 10, 'min_samples_split': 2, 'criterion': 'entropy'}\n",
      "Accuracy on Training Set: 1.0\n",
      "Accuracy on Test Set: 1.0 AUC: 1.0\n",
      "Accuracy on Original Dataset: 1.0 AUC: 1.0\n",
      "\n",
      "== Decision Tree + Bagging ==\n",
      "Accuracy on Training Set: 1.0\n",
      "Accuracy on Test Set: 1.0 AUC: 1.0\n",
      "Accuracy on Original Dataset: 1.0 AUC: 1.0\n",
      "Prediction Count:\n",
      "0.0    3508\n",
      "1.0       3\n",
      "dtype: int64 \n",
      "\n",
      "==== FSV ID Theft ====\n",
      "1.0    3307\n",
      "0.0    3307\n",
      "Name: FSV ID Theft, dtype: int64\n",
      "\n",
      "== Decision Tree ==\n",
      "Best Parameters: {'max_depth': 12, 'min_samples_split': 4, 'criterion': 'gini'}\n",
      "Accuracy on Training Set: 0.8251723011508165\n",
      "Accuracy on Test Set: 0.8246409674981103 AUC: 0.8662559246038456\n",
      "Accuracy on Original Dataset: 0.6998006266021076 AUC: 0.8781943530360437\n",
      "\n",
      "== Decision Tree + Bagging ==\n",
      "Accuracy on Training Set: 0.8937818937818938\n",
      "Accuracy on Test Set: 0.8775510204081632 AUC: 0.9920426342948292\n",
      "Accuracy on Original Dataset: 0.7937909427513529 AUC: 0.993377831931079\n",
      "Prediction Count:\n",
      "0.0    2583\n",
      "1.0     928\n",
      "dtype: int64 \n",
      "\n",
      "==== FSV Mortgage ====\n",
      "1.0    3500\n",
      "0.0    3500\n",
      "Name: FSV Mortgage, dtype: int64\n",
      "\n",
      "== Decision Tree ==\n",
      "Best Parameters: {'max_depth': 12, 'min_samples_split': 4, 'criterion': 'entropy'}\n",
      "Accuracy on Training Set: 0.9950000000000001\n",
      "Accuracy on Test Set: 0.9964285714285714 AUC: 0.9971428571428572\n",
      "Accuracy on Original Dataset: 0.9974366277413842 AUC: 0.9991168831168832\n",
      "\n",
      "== Decision Tree + Bagging ==\n",
      "Accuracy on Training Set: 0.9998214285714285\n",
      "Accuracy on Test Set: 0.9985714285714286 AUC: 1.0\n",
      "Accuracy on Original Dataset: 0.9991455425804614 AUC: 1.0\n",
      "Prediction Count:\n",
      "0.0    3497\n",
      "1.0      14\n",
      "dtype: int64 \n",
      "\n",
      "==== INS Client ====\n",
      "1.0    2522\n",
      "0.0    2522\n",
      "Name: INS Client, dtype: int64\n",
      "\n",
      "== Decision Tree ==\n",
      "Best Parameters: {'max_depth': 12, 'min_samples_split': 2, 'criterion': 'gini'}\n",
      "Accuracy on Training Set: 0.6701363073110286\n",
      "Accuracy on Test Set: 0.6689791873141725 AUC: 0.7477781706742102\n",
      "Accuracy on Original Dataset: 0.7339789233836513 AUC: 0.8106009883500425\n",
      "\n",
      "== Decision Tree + Bagging ==\n",
      "Accuracy on Training Set: 0.9630731102850062\n",
      "Accuracy on Test Set: 0.8225966303270565 AUC: 0.8895921735030646\n",
      "Accuracy on Original Dataset: 0.9174024494446027 AUC: 0.9544401581552509\n",
      "Prediction Count:\n",
      "0.0    2620\n",
      "1.0     891\n",
      "dtype: int64 \n",
      "\n",
      "==== TRV Globalware ====\n",
      "1.0    2882\n",
      "0.0    2882\n",
      "Name: TRV Globalware, dtype: int64\n",
      "\n",
      "== Decision Tree ==\n",
      "Best Parameters: {'max_depth': 12, 'min_samples_split': 2, 'criterion': 'gini'}\n",
      "Accuracy on Training Set: 0.6903077064086505\n",
      "Accuracy on Test Set: 0.6921075455333912 AUC: 0.7465909637974196\n",
      "Accuracy on Original Dataset: 0.6021076616348618 AUC: 0.793911609695175\n",
      "\n",
      "== Decision Tree + Bagging ==\n",
      "Accuracy on Training Set: 0.9292995011927998\n",
      "Accuracy on Test Set: 0.8464874241110147 AUC: 0.9448265694203735\n",
      "Accuracy on Original Dataset: 0.8746795784676731 AUC: 0.9670398140312824\n",
      "Prediction Count:\n",
      "0.0    2518\n",
      "1.0     993\n",
      "dtype: int64 \n",
      "\n",
      "==== New Mover ====\n",
      "1.0    3320\n",
      "0.0    3320\n",
      "Name: New Mover, dtype: int64\n",
      "\n",
      "== Decision Tree ==\n",
      "Best Parameters: {'max_depth': 12, 'min_samples_split': 2, 'criterion': 'gini'}\n",
      "Accuracy on Training Set: 0.8635108680439293\n",
      "Accuracy on Test Set: 0.8893072289156626 AUC: 0.9392566500943533\n",
      "Accuracy on Original Dataset: 0.9364853318142979 AUC: 0.9688048003532455\n",
      "\n",
      "== Decision Tree + Bagging ==\n",
      "Accuracy on Training Set: 0.9779743975903614\n",
      "Accuracy on Test Set: 0.963855421686747 AUC: 0.9954365655392655\n",
      "Accuracy on Original Dataset: 0.9592708630019937 AUC: 0.9977993124329779\n",
      "Prediction Count:\n",
      "0.0    3181\n",
      "1.0     330\n",
      "dtype: int64 \n",
      "\n",
      "Wall time: 10min 19s\n"
     ]
    }
   ],
   "source": [
    "%%time\n",
    "df_prob = pd.DataFrame()\n",
    "lst_test_auc_dt = []\n",
    "lst_test_auc = []\n",
    "lst_total_auc = []\n",
    "for prod in product_list:\n",
    "    # Up Sampling\n",
    "    # Separate majority and minority classes\n",
    "    df_majority = df[df[prod]==0]\n",
    "    df_minority = df[df[prod]==1]\n",
    "\n",
    "    # Upsample minority class\n",
    "    df_minority_upsampled = resample(df_minority, \n",
    "                                     replace=True,     # sample with replacement\n",
    "                                     n_samples=len(df_majority),    # to match majority class\n",
    "                                     random_state=72) # reproducible results\n",
    "\n",
    "    # Combine majority class with upsampled minority class\n",
    "    df_upsampled = pd.concat([df_majority, df_minority_upsampled])\n",
    "\n",
    "    # Display new class counts\n",
    "    print('====', prod, '====')\n",
    "    print(df_upsampled[prod].value_counts())\n",
    "    \n",
    "    # X - exclude total costs as it will be used for clustering\n",
    "    cols = [x for x in df_upsampled.columns if (x not in product_list\n",
    "                                               ) & (x not in ['Household Key', 'Total Cost sum'])]\n",
    "    X = df_upsampled[cols]\n",
    "\n",
    "    # y\n",
    "    y = df_upsampled[prod]\n",
    "        \n",
    "    # Training and testing sets    \n",
    "    X_train, X_test, y_train, y_test = train_test_split(X, y,\n",
    "                                                        test_size=0.2,\n",
    "                                                        stratify=y,\n",
    "                                                        random_state=75)\n",
    "    \n",
    "    # Train Decision Tree\n",
    "    param_grid = {'criterion': ['gini', 'entropy'],\n",
    "                  'max_depth': [8, 10, 12],\n",
    "                  'min_samples_split': [2, 3, 4]}\n",
    "    \n",
    "    gs_dt = GridSearchCV(DecisionTreeClassifier(), param_grid, cv=5)\n",
    "    gs_dt.fit(X_train, y_train)\n",
    "    print(\"\\n== Decision Tree ==\")\n",
    "    print(\"Best Parameters:\", gs_dt.best_params_)\n",
    "    print(\"Accuracy on Training Set:\", gs_dt.best_score_)\n",
    "\n",
    "    y_pred_prob = gs_dt.predict_proba(X_test)[:,1]\n",
    "    print(\"Accuracy on Test Set:\", gs_dt.score(X_test, y_test), \n",
    "          \"AUC:\", roc_auc_score(y_test, y_pred_prob))\n",
    "    \n",
    "    y_pred_prob = gs_dt.predict_proba(df[cols])[:,1]\n",
    "    test_auc_dt = roc_auc_score(df[prod], y_pred_prob)\n",
    "    print(\"Accuracy on Original Dataset:\", gs_dt.score(df[cols], df[prod]), \n",
    "          \"AUC:\", test_auc_dt)\n",
    "    \n",
    "    # Train Bagging \n",
    "    dt = DecisionTreeClassifier(criterion=gs_dt.best_estimator_.criterion,\n",
    "                                max_depth=gs_dt.best_estimator_.max_depth,\n",
    "                                min_samples_split=gs_dt.best_estimator_.min_samples_split)\n",
    "    bg =  BaggingClassifier(dt, n_estimators = 100)\n",
    "    bg.fit(X_train, y_train)\n",
    "    print(\"\\n== Decision Tree + Bagging ==\")\n",
    "    print(\"Accuracy on Training Set:\", bg.score(X_train, y_train))\n",
    "\n",
    "    y_pred_prob = bg.predict_proba(X_test)[:,1]\n",
    "    test_auc = roc_auc_score(y_test, y_pred_prob)\n",
    "    print(\"Accuracy on Test Set:\", bg.score(X_test, y_test),\n",
    "          \"AUC:\", test_auc)\n",
    "    \n",
    "    y_pred_prob = bg.predict_proba(df[cols])[:,1]\n",
    "    total_auc = roc_auc_score(df[prod], y_pred_prob)\n",
    "    print(\"Accuracy on Original Dataset:\", bg.score(df[cols], df[prod]),\n",
    "          \"AUC:\", total_auc)\n",
    "    \n",
    "    # Collect AUC score\n",
    "    lst_test_auc_dt.append(test_auc_dt)\n",
    "    lst_test_auc.append(test_auc)\n",
    "    lst_total_auc.append(total_auc)\n",
    "    \n",
    "    # Predict whole dataset\n",
    "    y_pred = bg.predict(df[cols])\n",
    "    print(\"Prediction Count:\")\n",
    "    print(pd.Series(y_pred).value_counts(), \"\\n\")\n",
    "    \n",
    "    # Get probability if for non-buyers\n",
    "    df_prob[prod] = [p if a == 0 else a for p, a in zip(y_pred_prob, df[prod])]"
   ]
  },
  {
   "cell_type": "code",
   "execution_count": 11,
   "metadata": {},
   "outputs": [
    {
     "data": {
      "text/html": [
       "<div>\n",
       "<style>\n",
       "    .dataframe thead tr:only-child th {\n",
       "        text-align: right;\n",
       "    }\n",
       "\n",
       "    .dataframe thead th {\n",
       "        text-align: left;\n",
       "    }\n",
       "\n",
       "    .dataframe tbody tr th {\n",
       "        vertical-align: top;\n",
       "    }\n",
       "</style>\n",
       "<table border=\"1\" class=\"dataframe\">\n",
       "  <thead>\n",
       "    <tr style=\"text-align: right;\">\n",
       "      <th></th>\n",
       "      <th>FSV CMSI</th>\n",
       "      <th>FSV Credit Card</th>\n",
       "      <th>FSV Deposit Program</th>\n",
       "      <th>FSV Home Equity</th>\n",
       "      <th>FSV ID Theft</th>\n",
       "      <th>FSV Mortgage</th>\n",
       "      <th>INS Client</th>\n",
       "      <th>TRV Globalware</th>\n",
       "      <th>New Mover</th>\n",
       "    </tr>\n",
       "  </thead>\n",
       "  <tbody>\n",
       "    <tr>\n",
       "      <th>0</th>\n",
       "      <td>0.142777</td>\n",
       "      <td>1.000000</td>\n",
       "      <td>0.000000</td>\n",
       "      <td>0.0</td>\n",
       "      <td>0.001050</td>\n",
       "      <td>0.059980</td>\n",
       "      <td>0.305679</td>\n",
       "      <td>0.333981</td>\n",
       "      <td>1.000000</td>\n",
       "    </tr>\n",
       "    <tr>\n",
       "      <th>1</th>\n",
       "      <td>0.144060</td>\n",
       "      <td>0.410358</td>\n",
       "      <td>0.000000</td>\n",
       "      <td>0.0</td>\n",
       "      <td>0.110182</td>\n",
       "      <td>0.009981</td>\n",
       "      <td>1.000000</td>\n",
       "      <td>0.348946</td>\n",
       "      <td>0.126942</td>\n",
       "    </tr>\n",
       "    <tr>\n",
       "      <th>2</th>\n",
       "      <td>0.104114</td>\n",
       "      <td>0.243306</td>\n",
       "      <td>0.073446</td>\n",
       "      <td>0.0</td>\n",
       "      <td>0.460093</td>\n",
       "      <td>0.000000</td>\n",
       "      <td>0.322177</td>\n",
       "      <td>1.000000</td>\n",
       "      <td>0.097713</td>\n",
       "    </tr>\n",
       "    <tr>\n",
       "      <th>3</th>\n",
       "      <td>0.164987</td>\n",
       "      <td>0.180294</td>\n",
       "      <td>0.000000</td>\n",
       "      <td>0.0</td>\n",
       "      <td>0.437676</td>\n",
       "      <td>0.000000</td>\n",
       "      <td>0.257843</td>\n",
       "      <td>1.000000</td>\n",
       "      <td>0.061522</td>\n",
       "    </tr>\n",
       "    <tr>\n",
       "      <th>4</th>\n",
       "      <td>0.665527</td>\n",
       "      <td>0.595321</td>\n",
       "      <td>0.000000</td>\n",
       "      <td>0.1</td>\n",
       "      <td>0.210000</td>\n",
       "      <td>0.000000</td>\n",
       "      <td>1.000000</td>\n",
       "      <td>1.000000</td>\n",
       "      <td>0.082057</td>\n",
       "    </tr>\n",
       "  </tbody>\n",
       "</table>\n",
       "</div>"
      ],
      "text/plain": [
       "   FSV CMSI  FSV Credit Card  FSV Deposit Program  FSV Home Equity  \\\n",
       "0  0.142777         1.000000             0.000000              0.0   \n",
       "1  0.144060         0.410358             0.000000              0.0   \n",
       "2  0.104114         0.243306             0.073446              0.0   \n",
       "3  0.164987         0.180294             0.000000              0.0   \n",
       "4  0.665527         0.595321             0.000000              0.1   \n",
       "\n",
       "   FSV ID Theft  FSV Mortgage  INS Client  TRV Globalware  New Mover  \n",
       "0      0.001050      0.059980    0.305679        0.333981   1.000000  \n",
       "1      0.110182      0.009981    1.000000        0.348946   0.126942  \n",
       "2      0.460093      0.000000    0.322177        1.000000   0.097713  \n",
       "3      0.437676      0.000000    0.257843        1.000000   0.061522  \n",
       "4      0.210000      0.000000    1.000000        1.000000   0.082057  "
      ]
     },
     "execution_count": 11,
     "metadata": {},
     "output_type": "execute_result"
    }
   ],
   "source": [
    "df_prob.head()"
   ]
  },
  {
   "cell_type": "code",
   "execution_count": 12,
   "metadata": {},
   "outputs": [
    {
     "data": {
      "text/html": [
       "<div>\n",
       "<style>\n",
       "    .dataframe thead tr:only-child th {\n",
       "        text-align: right;\n",
       "    }\n",
       "\n",
       "    .dataframe thead th {\n",
       "        text-align: left;\n",
       "    }\n",
       "\n",
       "    .dataframe tbody tr th {\n",
       "        vertical-align: top;\n",
       "    }\n",
       "</style>\n",
       "<table border=\"1\" class=\"dataframe\">\n",
       "  <thead>\n",
       "    <tr style=\"text-align: right;\">\n",
       "      <th></th>\n",
       "      <th>FSV CMSI</th>\n",
       "      <th>FSV Credit Card</th>\n",
       "      <th>FSV Deposit Program</th>\n",
       "      <th>FSV Home Equity</th>\n",
       "      <th>FSV ID Theft</th>\n",
       "      <th>FSV Mortgage</th>\n",
       "      <th>INS Client</th>\n",
       "      <th>TRV Globalware</th>\n",
       "      <th>New Mover</th>\n",
       "    </tr>\n",
       "  </thead>\n",
       "  <tbody>\n",
       "    <tr>\n",
       "      <th>count</th>\n",
       "      <td>3511.000000</td>\n",
       "      <td>3511.000000</td>\n",
       "      <td>3511.000000</td>\n",
       "      <td>3511.000000</td>\n",
       "      <td>3511.000000</td>\n",
       "      <td>3511.000000</td>\n",
       "      <td>3511.000000</td>\n",
       "      <td>3511.000000</td>\n",
       "      <td>3511.000000</td>\n",
       "    </tr>\n",
       "    <tr>\n",
       "      <th>mean</th>\n",
       "      <td>0.251492</td>\n",
       "      <td>0.398157</td>\n",
       "      <td>0.113877</td>\n",
       "      <td>0.001564</td>\n",
       "      <td>0.278360</td>\n",
       "      <td>0.018331</td>\n",
       "      <td>0.513137</td>\n",
       "      <td>0.447151</td>\n",
       "      <td>0.220392</td>\n",
       "    </tr>\n",
       "    <tr>\n",
       "      <th>std</th>\n",
       "      <td>0.267968</td>\n",
       "      <td>0.285848</td>\n",
       "      <td>0.214435</td>\n",
       "      <td>0.030986</td>\n",
       "      <td>0.302482</td>\n",
       "      <td>0.073904</td>\n",
       "      <td>0.314844</td>\n",
       "      <td>0.291427</td>\n",
       "      <td>0.232059</td>\n",
       "    </tr>\n",
       "    <tr>\n",
       "      <th>min</th>\n",
       "      <td>0.001104</td>\n",
       "      <td>0.000066</td>\n",
       "      <td>0.000000</td>\n",
       "      <td>0.000000</td>\n",
       "      <td>0.000000</td>\n",
       "      <td>0.000000</td>\n",
       "      <td>0.079487</td>\n",
       "      <td>0.017700</td>\n",
       "      <td>0.000707</td>\n",
       "    </tr>\n",
       "    <tr>\n",
       "      <th>25%</th>\n",
       "      <td>0.077799</td>\n",
       "      <td>0.182667</td>\n",
       "      <td>0.000000</td>\n",
       "      <td>0.000000</td>\n",
       "      <td>0.000000</td>\n",
       "      <td>0.000000</td>\n",
       "      <td>0.283800</td>\n",
       "      <td>0.223312</td>\n",
       "      <td>0.075772</td>\n",
       "    </tr>\n",
       "    <tr>\n",
       "      <th>50%</th>\n",
       "      <td>0.128818</td>\n",
       "      <td>0.318634</td>\n",
       "      <td>0.000000</td>\n",
       "      <td>0.000000</td>\n",
       "      <td>0.160531</td>\n",
       "      <td>0.000000</td>\n",
       "      <td>0.361675</td>\n",
       "      <td>0.385854</td>\n",
       "      <td>0.128928</td>\n",
       "    </tr>\n",
       "    <tr>\n",
       "      <th>75%</th>\n",
       "      <td>0.330071</td>\n",
       "      <td>0.527833</td>\n",
       "      <td>0.096781</td>\n",
       "      <td>0.000000</td>\n",
       "      <td>0.519154</td>\n",
       "      <td>0.000000</td>\n",
       "      <td>1.000000</td>\n",
       "      <td>0.530878</td>\n",
       "      <td>0.271419</td>\n",
       "    </tr>\n",
       "    <tr>\n",
       "      <th>max</th>\n",
       "      <td>1.000000</td>\n",
       "      <td>1.000000</td>\n",
       "      <td>1.000000</td>\n",
       "      <td>1.000000</td>\n",
       "      <td>1.000000</td>\n",
       "      <td>1.000000</td>\n",
       "      <td>1.000000</td>\n",
       "      <td>1.000000</td>\n",
       "      <td>1.000000</td>\n",
       "    </tr>\n",
       "  </tbody>\n",
       "</table>\n",
       "</div>"
      ],
      "text/plain": [
       "          FSV CMSI  FSV Credit Card  FSV Deposit Program  FSV Home Equity  \\\n",
       "count  3511.000000      3511.000000          3511.000000      3511.000000   \n",
       "mean      0.251492         0.398157             0.113877         0.001564   \n",
       "std       0.267968         0.285848             0.214435         0.030986   \n",
       "min       0.001104         0.000066             0.000000         0.000000   \n",
       "25%       0.077799         0.182667             0.000000         0.000000   \n",
       "50%       0.128818         0.318634             0.000000         0.000000   \n",
       "75%       0.330071         0.527833             0.096781         0.000000   \n",
       "max       1.000000         1.000000             1.000000         1.000000   \n",
       "\n",
       "       FSV ID Theft  FSV Mortgage   INS Client  TRV Globalware    New Mover  \n",
       "count   3511.000000   3511.000000  3511.000000     3511.000000  3511.000000  \n",
       "mean       0.278360      0.018331     0.513137        0.447151     0.220392  \n",
       "std        0.302482      0.073904     0.314844        0.291427     0.232059  \n",
       "min        0.000000      0.000000     0.079487        0.017700     0.000707  \n",
       "25%        0.000000      0.000000     0.283800        0.223312     0.075772  \n",
       "50%        0.160531      0.000000     0.361675        0.385854     0.128928  \n",
       "75%        0.519154      0.000000     1.000000        0.530878     0.271419  \n",
       "max        1.000000      1.000000     1.000000        1.000000     1.000000  "
      ]
     },
     "execution_count": 12,
     "metadata": {},
     "output_type": "execute_result"
    }
   ],
   "source": [
    "df_prob.describe()"
   ]
  },
  {
   "cell_type": "code",
   "execution_count": 13,
   "metadata": {},
   "outputs": [
    {
     "data": {
      "text/html": [
       "<div>\n",
       "<style>\n",
       "    .dataframe thead tr:only-child th {\n",
       "        text-align: right;\n",
       "    }\n",
       "\n",
       "    .dataframe thead th {\n",
       "        text-align: left;\n",
       "    }\n",
       "\n",
       "    .dataframe tbody tr th {\n",
       "        vertical-align: top;\n",
       "    }\n",
       "</style>\n",
       "<table border=\"1\" class=\"dataframe\">\n",
       "  <thead>\n",
       "    <tr style=\"text-align: right;\">\n",
       "      <th></th>\n",
       "      <th>All Data AUC (Bagging)</th>\n",
       "      <th>Product</th>\n",
       "      <th>Test Set AUC (Bagging)</th>\n",
       "      <th>Test Set AUC (Decision Tree)</th>\n",
       "    </tr>\n",
       "  </thead>\n",
       "  <tbody>\n",
       "    <tr>\n",
       "      <th>0</th>\n",
       "      <td>0.990970</td>\n",
       "      <td>FSV CMSI</td>\n",
       "      <td>0.988784</td>\n",
       "      <td>0.936004</td>\n",
       "    </tr>\n",
       "    <tr>\n",
       "      <th>1</th>\n",
       "      <td>0.971892</td>\n",
       "      <td>FSV Credit Card</td>\n",
       "      <td>0.955383</td>\n",
       "      <td>0.860119</td>\n",
       "    </tr>\n",
       "    <tr>\n",
       "      <th>2</th>\n",
       "      <td>0.999470</td>\n",
       "      <td>FSV Deposit Program</td>\n",
       "      <td>0.999686</td>\n",
       "      <td>0.952190</td>\n",
       "    </tr>\n",
       "    <tr>\n",
       "      <th>3</th>\n",
       "      <td>1.000000</td>\n",
       "      <td>FSV Home Equity</td>\n",
       "      <td>1.000000</td>\n",
       "      <td>1.000000</td>\n",
       "    </tr>\n",
       "    <tr>\n",
       "      <th>4</th>\n",
       "      <td>0.993378</td>\n",
       "      <td>FSV ID Theft</td>\n",
       "      <td>0.992043</td>\n",
       "      <td>0.878194</td>\n",
       "    </tr>\n",
       "    <tr>\n",
       "      <th>5</th>\n",
       "      <td>1.000000</td>\n",
       "      <td>FSV Mortgage</td>\n",
       "      <td>1.000000</td>\n",
       "      <td>0.999117</td>\n",
       "    </tr>\n",
       "    <tr>\n",
       "      <th>6</th>\n",
       "      <td>0.954440</td>\n",
       "      <td>INS Client</td>\n",
       "      <td>0.889592</td>\n",
       "      <td>0.810601</td>\n",
       "    </tr>\n",
       "    <tr>\n",
       "      <th>7</th>\n",
       "      <td>0.967040</td>\n",
       "      <td>TRV Globalware</td>\n",
       "      <td>0.944827</td>\n",
       "      <td>0.793912</td>\n",
       "    </tr>\n",
       "    <tr>\n",
       "      <th>8</th>\n",
       "      <td>0.997799</td>\n",
       "      <td>New Mover</td>\n",
       "      <td>0.995437</td>\n",
       "      <td>0.968805</td>\n",
       "    </tr>\n",
       "  </tbody>\n",
       "</table>\n",
       "</div>"
      ],
      "text/plain": [
       "   All Data AUC (Bagging)              Product  Test Set AUC (Bagging)  \\\n",
       "0                0.990970             FSV CMSI                0.988784   \n",
       "1                0.971892      FSV Credit Card                0.955383   \n",
       "2                0.999470  FSV Deposit Program                0.999686   \n",
       "3                1.000000      FSV Home Equity                1.000000   \n",
       "4                0.993378         FSV ID Theft                0.992043   \n",
       "5                1.000000         FSV Mortgage                1.000000   \n",
       "6                0.954440           INS Client                0.889592   \n",
       "7                0.967040       TRV Globalware                0.944827   \n",
       "8                0.997799            New Mover                0.995437   \n",
       "\n",
       "   Test Set AUC (Decision Tree)  \n",
       "0                      0.936004  \n",
       "1                      0.860119  \n",
       "2                      0.952190  \n",
       "3                      1.000000  \n",
       "4                      0.878194  \n",
       "5                      0.999117  \n",
       "6                      0.810601  \n",
       "7                      0.793912  \n",
       "8                      0.968805  "
      ]
     },
     "execution_count": 13,
     "metadata": {},
     "output_type": "execute_result"
    }
   ],
   "source": [
    "df_auc = pd.DataFrame({'Product': product_list,\n",
    "                       'Test Set AUC (Decision Tree)': lst_test_auc_dt,\n",
    "                       'Test Set AUC (Bagging)': lst_test_auc,\n",
    "                       'All Data AUC (Bagging)': lst_total_auc})\n",
    "df_auc"
   ]
  },
  {
   "cell_type": "code",
   "execution_count": 14,
   "metadata": {},
   "outputs": [
    {
     "data": {
      "text/plain": [
       "[]"
      ]
     },
     "execution_count": 14,
     "metadata": {},
     "output_type": "execute_result"
    },
    {
     "data": {
      "image/png": "[encoded data removed]",
      "text/plain": [
       "<matplotlib.figure.Figure at 0x15643b82b38>"
      ]
     },
     "metadata": {
      "needs_background": "light"
     },
     "output_type": "display_data"
    }
   ],
   "source": [
    "# Plot AUC\n",
    "df_auc.plot(x='Product', y=['Test Set AUC (Decision Tree)', \n",
    "                            'Test Set AUC (Bagging)', \n",
    "                            'All Data AUC (Bagging)'], kind='bar')\n",
    "plt.legend(loc='lower right')\n",
    "plt.plot()"
   ]
  },
  {
   "cell_type": "code",
   "execution_count": 15,
   "metadata": {},
   "outputs": [
    {
     "data": {
      "text/plain": [
       "All Data AUC (Bagging)          0.986110\n",
       "Test Set AUC (Bagging)          0.973972\n",
       "Test Set AUC (Decision Tree)    0.910994\n",
       "dtype: float64"
      ]
     },
     "execution_count": 15,
     "metadata": {},
     "output_type": "execute_result"
    }
   ],
   "source": [
    "df_auc.mean()"
   ]
  },
  {
   "cell_type": "markdown",
   "metadata": {},
   "source": [
    "**With high AUC on predicting all products in the original dataset, we can be confident that the probability of purchsing would be a good reference on current and potential buyers of each product.**"
   ]
  },
  {
   "cell_type": "markdown",
   "metadata": {},
   "source": [
    "## Predict Cost in Next 12 Months\n",
    "We can use the cost before year 2019 as year n-1, n-2, and so on to predict the cost in year 2019. Afterwards, we can use treat year 2019 as year n-1, year 2018 as year n-2, and so on to preduct the cost in year 2020. \n",
    "\n",
    "Based on the difinition, ERS ENT Count Year 1 and ERS Member Cost Year 1 happen in year 2019, so we can't use them to predict the cost in 2019. However, they can be used to predict the cost in 2020.\n",
    "\n",
    "One assumption here is that the household info would remain the same in year 2020 as we don't have the projected household info of year 2020."
   ]
  },
  {
   "cell_type": "code",
   "execution_count": 16,
   "metadata": {},
   "outputs": [
    {
     "name": "stdout",
     "output_type": "stream",
     "text": [
      "<class 'pandas.core.frame.DataFrame'>\n",
      "RangeIndex: 3511 entries, 0 to 3510\n",
      "Data columns (total 25 columns):\n",
      "ERS Member Cost Year n-2           3511 non-null float64\n",
      "Length Of Residence mean           3511 non-null float64\n",
      "Number of Children mean            3511 non-null float64\n",
      "ERS Member Cost Year n-1           3511 non-null float64\n",
      "Cost n-5                           3511 non-null float64\n",
      "Cost n-3                           3511 non-null float64\n",
      "ERS ENT Count Year n-2             3511 non-null float64\n",
      "Mail Responder mean                3511 non-null float64\n",
      "Cost n-4                           3511 non-null float64\n",
      "PrimaryMember sum                  3511 non-null float64\n",
      "Email Available mean               3511 non-null float64\n",
      "Income mean                        3511 non-null float64\n",
      "Cost 2019 sum                      3511 non-null float64\n",
      "Credit Ranges mean                 3511 non-null float64\n",
      "Member Tenure Years mean           3511 non-null float64\n",
      "AssociateMember sum                3511 non-null float64\n",
      "Cost n-1                           3511 non-null float64\n",
      "Member Key count                   3511 non-null float64\n",
      "Do Not Direct Mail Solicit mean    3511 non-null float64\n",
      "Cost n-2                           3511 non-null float64\n",
      "ERS ENT Count Year n-1             3511 non-null float64\n",
      "x0_1746.0                          3511 non-null category\n",
      "x0_1867.0                          3511 non-null category\n",
      "x0_1905.0                          3511 non-null category\n",
      "x0_2769.0                          3511 non-null category\n",
      "dtypes: category(4), float64(21)\n",
      "memory usage: 590.2 KB\n"
     ]
    }
   ],
   "source": [
    "df_cost_prediction = df.drop(['Household Key', 'Total Cost sum', \n",
    "                              'ERS ENT Count Year 1 sum', 'ERS ENT Count Year 1 mean',\n",
    "                              'ERS ENT Count Year 2 mean', 'ERS ENT Count Year 3 mean', \n",
    "                              'ERS Member Cost Year 1 sum', 'ERS Member Cost Year 1 mean',\n",
    "                              'ERS Member Cost Year 2 mean', 'ERS Member Cost Year 3 mean'\n",
    "                             ] + product_list, axis = 1)\n",
    "    # Categorical variables\n",
    "cat_cols = [x for x in df_cost_prediction.columns if x.startswith('x')]\n",
    "for col in cat_cols:\n",
    "    df_cost_prediction[col] = df_cost_prediction[col].astype('category')\n",
    "df_cost_prediction = df_cost_prediction.rename(columns = \n",
    "                                               {'Cost 2018 sum': 'Cost n-1',\n",
    "                                                'Cost 2017 sum': 'Cost n-2',\n",
    "                                                'Cost 2016 sum': 'Cost n-3',\n",
    "                                                'Cost 2015 sum': 'Cost n-4',\n",
    "                                                'Cost 2014 sum': 'Cost n-5',\n",
    "                                                'ERS ENT Count Year 2 sum': 'ERS ENT Count Year n-1',\n",
    "                                                'ERS ENT Count Year 3 sum': 'ERS ENT Count Year n-2',\n",
    "                                                'ERS Member Cost Year 2 sum': 'ERS Member Cost Year n-1',\n",
    "                                                'ERS Member Cost Year 3 sum': 'ERS Member Cost Year n-2'})\n",
    "df_cost_prediction.iloc[:, :25].info()"
   ]
  },
  {
   "cell_type": "code",
   "execution_count": 17,
   "metadata": {},
   "outputs": [
    {
     "data": {
      "text/html": [
       "<div>\n",
       "<style>\n",
       "    .dataframe thead tr:only-child th {\n",
       "        text-align: right;\n",
       "    }\n",
       "\n",
       "    .dataframe thead th {\n",
       "        text-align: left;\n",
       "    }\n",
       "\n",
       "    .dataframe tbody tr th {\n",
       "        vertical-align: top;\n",
       "    }\n",
       "</style>\n",
       "<table border=\"1\" class=\"dataframe\">\n",
       "  <thead>\n",
       "    <tr style=\"text-align: right;\">\n",
       "      <th></th>\n",
       "      <th>ERS Member Cost Year n-2</th>\n",
       "      <th>Length Of Residence mean</th>\n",
       "      <th>Number of Children mean</th>\n",
       "      <th>ERS Member Cost Year n-1</th>\n",
       "      <th>Cost n-5</th>\n",
       "      <th>Cost n-3</th>\n",
       "      <th>ERS ENT Count Year n-2</th>\n",
       "      <th>Mail Responder mean</th>\n",
       "      <th>Cost n-4</th>\n",
       "      <th>PrimaryMember sum</th>\n",
       "      <th>...</th>\n",
       "      <th>x5_Middle Class Melting Pot</th>\n",
       "      <th>x5_Not Set</th>\n",
       "      <th>x5_Pastoral Pride</th>\n",
       "      <th>x5_Power Elite</th>\n",
       "      <th>x5_Promising Families</th>\n",
       "      <th>x5_Significant Singles</th>\n",
       "      <th>x5_Singles and Starters</th>\n",
       "      <th>x5_Surburban Style</th>\n",
       "      <th>x5_Thriving Boomers</th>\n",
       "      <th>x5_Young City Solos</th>\n",
       "    </tr>\n",
       "  </thead>\n",
       "  <tbody>\n",
       "    <tr>\n",
       "      <th>0</th>\n",
       "      <td>347.16</td>\n",
       "      <td>14.000000</td>\n",
       "      <td>0.000000</td>\n",
       "      <td>58.85</td>\n",
       "      <td>243.0</td>\n",
       "      <td>230.0</td>\n",
       "      <td>4.0</td>\n",
       "      <td>1.0</td>\n",
       "      <td>446.0</td>\n",
       "      <td>1.0</td>\n",
       "      <td>...</td>\n",
       "      <td>0.0</td>\n",
       "      <td>0.0</td>\n",
       "      <td>0.0</td>\n",
       "      <td>1.0</td>\n",
       "      <td>0.0</td>\n",
       "      <td>0.0</td>\n",
       "      <td>0.0</td>\n",
       "      <td>0.0</td>\n",
       "      <td>0.0</td>\n",
       "      <td>0.0</td>\n",
       "    </tr>\n",
       "    <tr>\n",
       "      <th>1</th>\n",
       "      <td>301.19</td>\n",
       "      <td>14.000000</td>\n",
       "      <td>0.000000</td>\n",
       "      <td>156.85</td>\n",
       "      <td>0.0</td>\n",
       "      <td>0.0</td>\n",
       "      <td>3.0</td>\n",
       "      <td>1.0</td>\n",
       "      <td>58.0</td>\n",
       "      <td>1.0</td>\n",
       "      <td>...</td>\n",
       "      <td>0.0</td>\n",
       "      <td>0.0</td>\n",
       "      <td>0.0</td>\n",
       "      <td>0.0</td>\n",
       "      <td>0.0</td>\n",
       "      <td>0.0</td>\n",
       "      <td>0.0</td>\n",
       "      <td>0.0</td>\n",
       "      <td>0.0</td>\n",
       "      <td>0.0</td>\n",
       "    </tr>\n",
       "    <tr>\n",
       "      <th>2</th>\n",
       "      <td>0.00</td>\n",
       "      <td>15.000000</td>\n",
       "      <td>0.000000</td>\n",
       "      <td>0.00</td>\n",
       "      <td>0.0</td>\n",
       "      <td>0.0</td>\n",
       "      <td>0.0</td>\n",
       "      <td>1.0</td>\n",
       "      <td>0.0</td>\n",
       "      <td>1.0</td>\n",
       "      <td>...</td>\n",
       "      <td>0.0</td>\n",
       "      <td>0.0</td>\n",
       "      <td>0.0</td>\n",
       "      <td>0.0</td>\n",
       "      <td>0.0</td>\n",
       "      <td>0.0</td>\n",
       "      <td>0.0</td>\n",
       "      <td>0.0</td>\n",
       "      <td>0.0</td>\n",
       "      <td>0.0</td>\n",
       "    </tr>\n",
       "    <tr>\n",
       "      <th>3</th>\n",
       "      <td>159.00</td>\n",
       "      <td>13.333333</td>\n",
       "      <td>0.666667</td>\n",
       "      <td>277.90</td>\n",
       "      <td>0.0</td>\n",
       "      <td>0.0</td>\n",
       "      <td>3.0</td>\n",
       "      <td>1.0</td>\n",
       "      <td>0.0</td>\n",
       "      <td>1.0</td>\n",
       "      <td>...</td>\n",
       "      <td>0.0</td>\n",
       "      <td>0.0</td>\n",
       "      <td>0.0</td>\n",
       "      <td>0.0</td>\n",
       "      <td>0.0</td>\n",
       "      <td>0.0</td>\n",
       "      <td>0.0</td>\n",
       "      <td>0.0</td>\n",
       "      <td>1.0</td>\n",
       "      <td>0.0</td>\n",
       "    </tr>\n",
       "    <tr>\n",
       "      <th>4</th>\n",
       "      <td>0.00</td>\n",
       "      <td>15.000000</td>\n",
       "      <td>0.000000</td>\n",
       "      <td>0.00</td>\n",
       "      <td>0.0</td>\n",
       "      <td>0.0</td>\n",
       "      <td>0.0</td>\n",
       "      <td>1.0</td>\n",
       "      <td>60.0</td>\n",
       "      <td>1.0</td>\n",
       "      <td>...</td>\n",
       "      <td>0.0</td>\n",
       "      <td>0.0</td>\n",
       "      <td>0.0</td>\n",
       "      <td>0.0</td>\n",
       "      <td>0.0</td>\n",
       "      <td>0.0</td>\n",
       "      <td>0.0</td>\n",
       "      <td>0.0</td>\n",
       "      <td>1.0</td>\n",
       "      <td>0.0</td>\n",
       "    </tr>\n",
       "  </tbody>\n",
       "</table>\n",
       "<p>5 rows × 218 columns</p>\n",
       "</div>"
      ],
      "text/plain": [
       "   ERS Member Cost Year n-2  Length Of Residence mean  \\\n",
       "0                    347.16                 14.000000   \n",
       "1                    301.19                 14.000000   \n",
       "2                      0.00                 15.000000   \n",
       "3                    159.00                 13.333333   \n",
       "4                      0.00                 15.000000   \n",
       "\n",
       "   Number of Children mean  ERS Member Cost Year n-1  Cost n-5  Cost n-3  \\\n",
       "0                 0.000000                     58.85     243.0     230.0   \n",
       "1                 0.000000                    156.85       0.0       0.0   \n",
       "2                 0.000000                      0.00       0.0       0.0   \n",
       "3                 0.666667                    277.90       0.0       0.0   \n",
       "4                 0.000000                      0.00       0.0       0.0   \n",
       "\n",
       "   ERS ENT Count Year n-2  Mail Responder mean  Cost n-4  PrimaryMember sum  \\\n",
       "0                     4.0                  1.0     446.0                1.0   \n",
       "1                     3.0                  1.0      58.0                1.0   \n",
       "2                     0.0                  1.0       0.0                1.0   \n",
       "3                     3.0                  1.0       0.0                1.0   \n",
       "4                     0.0                  1.0      60.0                1.0   \n",
       "\n",
       "          ...           x5_Middle Class Melting Pot  x5_Not Set  \\\n",
       "0         ...                                   0.0         0.0   \n",
       "1         ...                                   0.0         0.0   \n",
       "2         ...                                   0.0         0.0   \n",
       "3         ...                                   0.0         0.0   \n",
       "4         ...                                   0.0         0.0   \n",
       "\n",
       "   x5_Pastoral Pride  x5_Power Elite  x5_Promising Families  \\\n",
       "0                0.0             1.0                    0.0   \n",
       "1                0.0             0.0                    0.0   \n",
       "2                0.0             0.0                    0.0   \n",
       "3                0.0             0.0                    0.0   \n",
       "4                0.0             0.0                    0.0   \n",
       "\n",
       "   x5_Significant Singles  x5_Singles and Starters  x5_Surburban Style  \\\n",
       "0                     0.0                      0.0                 0.0   \n",
       "1                     0.0                      0.0                 0.0   \n",
       "2                     0.0                      0.0                 0.0   \n",
       "3                     0.0                      0.0                 0.0   \n",
       "4                     0.0                      0.0                 0.0   \n",
       "\n",
       "   x5_Thriving Boomers  x5_Young City Solos  \n",
       "0                  0.0                  0.0  \n",
       "1                  0.0                  0.0  \n",
       "2                  0.0                  0.0  \n",
       "3                  1.0                  0.0  \n",
       "4                  1.0                  0.0  \n",
       "\n",
       "[5 rows x 218 columns]"
      ]
     },
     "execution_count": 17,
     "metadata": {},
     "output_type": "execute_result"
    }
   ],
   "source": [
    "df_cost_prediction.head()"
   ]
  },
  {
   "cell_type": "code",
   "execution_count": 18,
   "metadata": {},
   "outputs": [
    {
     "data": {
      "image/png": "[encoded data removed]",
      "text/plain": [
       "<matplotlib.figure.Figure at 0x15643c22e10>"
      ]
     },
     "metadata": {
      "needs_background": "light"
     },
     "output_type": "display_data"
    }
   ],
   "source": [
    "plt.hist(df_cost_prediction['Cost 2019 sum'], bins=25, color = 'orange')\n",
    "plt.show()"
   ]
  },
  {
   "cell_type": "code",
   "execution_count": 19,
   "metadata": {},
   "outputs": [
    {
     "data": {
      "text/plain": [
       "count    3511.000000\n",
       "mean       29.002273\n",
       "std        55.264674\n",
       "min         0.000000\n",
       "25%         0.000000\n",
       "50%         0.000000\n",
       "75%        58.850000\n",
       "max       584.170000\n",
       "Name: Cost 2019 sum, dtype: float64"
      ]
     },
     "execution_count": 19,
     "metadata": {},
     "output_type": "execute_result"
    }
   ],
   "source": [
    "df_cost_prediction['Cost 2019 sum'].describe()"
   ]
  },
  {
   "cell_type": "code",
   "execution_count": 20,
   "metadata": {},
   "outputs": [
    {
     "data": {
      "text/plain": [
       "0.3383651381372828"
      ]
     },
     "execution_count": 20,
     "metadata": {},
     "output_type": "execute_result"
    }
   ],
   "source": [
    "# Percentage of households with costs greater than 0 in 2019\n",
    "len(df_cost_prediction['Cost 2019 sum'\n",
    "                      ][df_cost_prediction['Cost 2019 sum'\n",
    "                                          ] > 0]) / len(df_cost_prediction['Cost 2019 sum'])"
   ]
  },
  {
   "cell_type": "markdown",
   "metadata": {},
   "source": [
    "**The majority of households didn't generate any costs in 2019. Therefore, the question is modified to a classification question to identify the probability of a household generating cost in 2020**"
   ]
  },
  {
   "cell_type": "code",
   "execution_count": 21,
   "metadata": {},
   "outputs": [],
   "source": [
    "from sklearn.linear_model import LogisticRegression"
   ]
  },
  {
   "cell_type": "code",
   "execution_count": 22,
   "metadata": {},
   "outputs": [],
   "source": [
    "X = df_cost_prediction.drop(['Cost 2019 sum'], axis=1)\n",
    "# y = df_cost_prediction[['Cost 2019 sum']]\n",
    "y = [1 if x > 0 else 0 for x in df_cost_prediction['Cost 2019 sum']]\n",
    "X_train, X_test, y_train, y_test = train_test_split(X, y, test_size = 0.3, random_state = 28)"
   ]
  },
  {
   "cell_type": "code",
   "execution_count": 23,
   "metadata": {},
   "outputs": [
    {
     "name": "stdout",
     "output_type": "stream",
     "text": [
      "Best Parameters: {'C': 9, 'max_iter': 1000, 'tol': 10}\n",
      "Accuracy on Training Set: 0.7301549848492375\n",
      "Accuracy on Test Set: 0.7609108159392789\n",
      "AUC: 0.7649844991566027\n",
      "AUC on Original Dataset: 0.7772762783524729\n",
      "Wall time: 1min 13s\n"
     ]
    }
   ],
   "source": [
    "%%time\n",
    "param_grid = {'C': [15-6, 1e-5, 1e-4], \n",
    "              'tol': [10, 1, 0.1], \n",
    "              'max_iter': [1000, 1500]}\n",
    "gs_lr = GridSearchCV(LogisticRegression(), param_grid, cv=5)\n",
    "gs_lr.fit(X_train, y_train)\n",
    "print(\"Best Parameters:\", gs_lr.best_params_)\n",
    "print(\"Accuracy on Training Set:\", gs_lr.best_score_)\n",
    "\n",
    "y_pred_prob = gs_lr.predict_proba(X_test)[:,1]\n",
    "print(\"Accuracy on Test Set:\", gs_lr.score(X_test, y_test))\n",
    "print(\"AUC:\", roc_auc_score(y_test, y_pred_prob))\n",
    "\n",
    "y_pred_prob = gs_lr.predict_proba(X)[:,1]\n",
    "print(#\"Accuracy on Original Dataset:\", bg.score(X, y),\n",
    "      \"AUC on Original Dataset:\", roc_auc_score(y, y_pred_prob))"
   ]
  },
  {
   "cell_type": "code",
   "execution_count": 24,
   "metadata": {},
   "outputs": [
    {
     "data": {
      "text/plain": [
       "0    869\n",
       "1    185\n",
       "dtype: int64"
      ]
     },
     "execution_count": 24,
     "metadata": {},
     "output_type": "execute_result"
    }
   ],
   "source": [
    "y_pred = gs_lr.predict(X_test)\n",
    "pd.Series(y_pred).value_counts()"
   ]
  },
  {
   "cell_type": "code",
   "execution_count": 25,
   "metadata": {},
   "outputs": [
    {
     "name": "stdout",
     "output_type": "stream",
     "text": [
      "\n",
      "== Decision Tree ==\n",
      "Best Parameters: {'max_depth': 3, 'min_samples_split': 2, 'criterion': 'gini'}\n",
      "Accuracy on Training Set: 0.7492805457586144\n",
      "Accuracy on Test Set: 0.7637571157495257 AUC: 0.7615898775496469\n",
      "Accuracy on Original Dataset: 0.7630304756479636 AUC: 0.7779692824354899\n",
      "\n",
      "== Bagging ==\n",
      "Accuracy on Training Set: 0.7643467643467643\n",
      "Accuracy on Test Set: 0.7703984819734345 AUC: 0.7765249506791346\n",
      "Accuracy on Original Dataset: 0.7661634861862717 AUC: 0.8017776415322692\n",
      "Prediction Count:\n",
      "0    2430\n",
      "1    1081\n",
      "dtype: int64 \n",
      "\n",
      "Wall time: 1min 54s\n"
     ]
    }
   ],
   "source": [
    "%%time\n",
    "# Train Decision Tree\n",
    "param_grid = {'criterion': ['gini', 'entropy'],\n",
    "              'max_depth': [2, 3, 5],\n",
    "              'min_samples_split': [2, 3, 4]}\n",
    "\n",
    "gs_dt = GridSearchCV(DecisionTreeClassifier(), param_grid, cv=5)\n",
    "gs_dt.fit(X_train, y_train)\n",
    "print(\"\\n== Decision Tree ==\")\n",
    "print(\"Best Parameters:\", gs_dt.best_params_)\n",
    "print(\"Accuracy on Training Set:\", gs_dt.best_score_)\n",
    "\n",
    "y_pred_prob = gs_dt.predict_proba(X_test)[:,1]\n",
    "print(\"Accuracy on Test Set:\", gs_dt.score(X_test, y_test), \n",
    "      \"AUC:\", roc_auc_score(y_test, y_pred_prob))\n",
    "    \n",
    "y_pred_prob = gs_dt.predict_proba(X)[:,1]\n",
    "print(\"Accuracy on Original Dataset:\", gs_dt.score(X, y), \n",
    "      \"AUC:\", roc_auc_score(y, y_pred_prob))\n",
    "\n",
    "# Train Bagging \n",
    "dt = DecisionTreeClassifier(criterion=gs_dt.best_estimator_.criterion,\n",
    "                            max_depth=gs_dt.best_estimator_.max_depth,\n",
    "                            min_samples_split=gs_dt.best_estimator_.min_samples_split)\n",
    "bg =  BaggingClassifier(dt, n_estimators = 100)\n",
    "bg.fit(X_train, y_train)\n",
    "print(\"\\n== Bagging ==\")\n",
    "print(\"Accuracy on Training Set:\", bg.score(X_train, y_train))\n",
    "\n",
    "y_pred_prob = bg.predict_proba(X_test)[:,1]\n",
    "print(\"Accuracy on Test Set:\", bg.score(X_test, y_test),\n",
    "      \"AUC:\", roc_auc_score(y_test, y_pred_prob))\n",
    "    \n",
    "y_pred_prob = bg.predict_proba(X)[:,1]\n",
    "print(\"Accuracy on Original Dataset:\", bg.score(X, y),\n",
    "      \"AUC:\", roc_auc_score(y, y_pred_prob))\n",
    "    \n",
    "y_pred = bg.predict(X)\n",
    "print(\"Prediction Count:\")\n",
    "print(pd.Series(y_pred).value_counts(), \"\\n\")"
   ]
  },
  {
   "cell_type": "code",
   "execution_count": 26,
   "metadata": {},
   "outputs": [
    {
     "name": "stdout",
     "output_type": "stream",
     "text": [
      "<class 'pandas.core.frame.DataFrame'>\n",
      "RangeIndex: 3511 entries, 0 to 3510\n",
      "Data columns (total 25 columns):\n",
      "Length Of Residence mean           3511 non-null float64\n",
      "Number of Children mean            3511 non-null float64\n",
      "ERS Member Cost Year n-2           3511 non-null float64\n",
      "Cost n-4                           3511 non-null float64\n",
      "Mail Responder mean                3511 non-null float64\n",
      "Cost n-5                           3511 non-null float64\n",
      "PrimaryMember sum                  3511 non-null float64\n",
      "ERS ENT Count Year n-1             3511 non-null float64\n",
      "Email Available mean               3511 non-null float64\n",
      "Income mean                        3511 non-null float64\n",
      "ERS Member Cost Year n-1           3511 non-null float64\n",
      "Cost n-1                           3511 non-null float64\n",
      "Credit Ranges mean                 3511 non-null float64\n",
      "Member Tenure Years mean           3511 non-null float64\n",
      "AssociateMember sum                3511 non-null float64\n",
      "Cost n-2                           3511 non-null float64\n",
      "Member Key count                   3511 non-null float64\n",
      "Do Not Direct Mail Solicit mean    3511 non-null float64\n",
      "Cost n-3                           3511 non-null float64\n",
      "ERS ENT Count Year n-2             3511 non-null float64\n",
      "x0_1746.0                          3511 non-null float64\n",
      "x0_1867.0                          3511 non-null float64\n",
      "x0_1905.0                          3511 non-null float64\n",
      "x0_2769.0                          3511 non-null float64\n",
      "x0_2802.0                          3511 non-null float64\n",
      "dtypes: float64(25)\n",
      "memory usage: 685.8 KB\n"
     ]
    }
   ],
   "source": [
    "df_2020_prediction = df.drop(['Household Key','Cost 2014 sum', 'Total Cost sum', \n",
    "                              'ERS ENT Count Year 3 sum', 'ERS ENT Count Year 1 mean',\n",
    "                              'ERS ENT Count Year 2 mean', 'ERS ENT Count Year 3 mean', \n",
    "                              'ERS Member Cost Year 3 sum', 'ERS Member Cost Year 1 mean',\n",
    "                              'ERS Member Cost Year 2 mean', 'ERS Member Cost Year 3 mean'\n",
    "                             ] + product_list, axis = 1)\n",
    "    # Categorical variables\n",
    "cat_cols = [x for x in df_2020_prediction.columns if x.startswith('x')]\n",
    "for col in cat_cols:\n",
    "    df_cost_prediction[col] = df_cost_prediction[col].astype('category')\n",
    "df_2020_prediction = df_2020_prediction.rename(columns=\n",
    "                                               {'Cost 2019 sum': 'Cost n-1',\n",
    "                                                'Cost 2018 sum': 'Cost n-2',\n",
    "                                                'Cost 2017 sum': 'Cost n-3',\n",
    "                                                'Cost 2016 sum': 'Cost n-4',\n",
    "                                                'Cost 2015 sum': 'Cost n-5',\n",
    "                                                'ERS ENT Count Year 1 sum': 'ERS ENT Count Year n-1',\n",
    "                                                'ERS ENT Count Year 2 sum': 'ERS ENT Count Year n-2',\n",
    "                                                'ERS Member Cost Year 1 sum': 'ERS Member Cost Year n-1',\n",
    "                                                'ERS Member Cost Year 2 sum': 'ERS Member Cost Year n-2'})\n",
    "df_2020_prediction.iloc[:, :25].info()"
   ]
  },
  {
   "cell_type": "code",
   "execution_count": 27,
   "metadata": {},
   "outputs": [
    {
     "name": "stdout",
     "output_type": "stream",
     "text": [
      "Prediction Count:\n",
      "0    2413\n",
      "1    1098\n",
      "dtype: int64\n"
     ]
    }
   ],
   "source": [
    "df_prob['Cost'] = bg.predict_proba(df_2020_prediction)[:,1]\n",
    "y_pred = bg.predict(df_2020_prediction)\n",
    "print(\"Prediction Count:\")\n",
    "print(pd.Series(y_pred).value_counts())"
   ]
  },
  {
   "cell_type": "code",
   "execution_count": 28,
   "metadata": {},
   "outputs": [
    {
     "data": {
      "text/html": [
       "<div>\n",
       "<style>\n",
       "    .dataframe thead tr:only-child th {\n",
       "        text-align: right;\n",
       "    }\n",
       "\n",
       "    .dataframe thead th {\n",
       "        text-align: left;\n",
       "    }\n",
       "\n",
       "    .dataframe tbody tr th {\n",
       "        vertical-align: top;\n",
       "    }\n",
       "</style>\n",
       "<table border=\"1\" class=\"dataframe\">\n",
       "  <thead>\n",
       "    <tr style=\"text-align: right;\">\n",
       "      <th></th>\n",
       "      <th>FSV CMSI</th>\n",
       "      <th>FSV Credit Card</th>\n",
       "      <th>FSV Deposit Program</th>\n",
       "      <th>FSV Home Equity</th>\n",
       "      <th>FSV ID Theft</th>\n",
       "      <th>FSV Mortgage</th>\n",
       "      <th>INS Client</th>\n",
       "      <th>TRV Globalware</th>\n",
       "      <th>New Mover</th>\n",
       "      <th>Cost</th>\n",
       "    </tr>\n",
       "  </thead>\n",
       "  <tbody>\n",
       "    <tr>\n",
       "      <th>0</th>\n",
       "      <td>0.142777</td>\n",
       "      <td>1.000000</td>\n",
       "      <td>0.000000</td>\n",
       "      <td>0.0</td>\n",
       "      <td>0.001050</td>\n",
       "      <td>0.059980</td>\n",
       "      <td>0.305679</td>\n",
       "      <td>0.333981</td>\n",
       "      <td>1.000000</td>\n",
       "      <td>0.583624</td>\n",
       "    </tr>\n",
       "    <tr>\n",
       "      <th>1</th>\n",
       "      <td>0.144060</td>\n",
       "      <td>0.410358</td>\n",
       "      <td>0.000000</td>\n",
       "      <td>0.0</td>\n",
       "      <td>0.110182</td>\n",
       "      <td>0.009981</td>\n",
       "      <td>1.000000</td>\n",
       "      <td>0.348946</td>\n",
       "      <td>0.126942</td>\n",
       "      <td>0.279380</td>\n",
       "    </tr>\n",
       "    <tr>\n",
       "      <th>2</th>\n",
       "      <td>0.104114</td>\n",
       "      <td>0.243306</td>\n",
       "      <td>0.073446</td>\n",
       "      <td>0.0</td>\n",
       "      <td>0.460093</td>\n",
       "      <td>0.000000</td>\n",
       "      <td>0.322177</td>\n",
       "      <td>1.000000</td>\n",
       "      <td>0.097713</td>\n",
       "      <td>0.136552</td>\n",
       "    </tr>\n",
       "    <tr>\n",
       "      <th>3</th>\n",
       "      <td>0.164987</td>\n",
       "      <td>0.180294</td>\n",
       "      <td>0.000000</td>\n",
       "      <td>0.0</td>\n",
       "      <td>0.437676</td>\n",
       "      <td>0.000000</td>\n",
       "      <td>0.257843</td>\n",
       "      <td>1.000000</td>\n",
       "      <td>0.061522</td>\n",
       "      <td>0.197980</td>\n",
       "    </tr>\n",
       "    <tr>\n",
       "      <th>4</th>\n",
       "      <td>0.665527</td>\n",
       "      <td>0.595321</td>\n",
       "      <td>0.000000</td>\n",
       "      <td>0.1</td>\n",
       "      <td>0.210000</td>\n",
       "      <td>0.000000</td>\n",
       "      <td>1.000000</td>\n",
       "      <td>1.000000</td>\n",
       "      <td>0.082057</td>\n",
       "      <td>0.210892</td>\n",
       "    </tr>\n",
       "  </tbody>\n",
       "</table>\n",
       "</div>"
      ],
      "text/plain": [
       "   FSV CMSI  FSV Credit Card  FSV Deposit Program  FSV Home Equity  \\\n",
       "0  0.142777         1.000000             0.000000              0.0   \n",
       "1  0.144060         0.410358             0.000000              0.0   \n",
       "2  0.104114         0.243306             0.073446              0.0   \n",
       "3  0.164987         0.180294             0.000000              0.0   \n",
       "4  0.665527         0.595321             0.000000              0.1   \n",
       "\n",
       "   FSV ID Theft  FSV Mortgage  INS Client  TRV Globalware  New Mover      Cost  \n",
       "0      0.001050      0.059980    0.305679        0.333981   1.000000  0.583624  \n",
       "1      0.110182      0.009981    1.000000        0.348946   0.126942  0.279380  \n",
       "2      0.460093      0.000000    0.322177        1.000000   0.097713  0.136552  \n",
       "3      0.437676      0.000000    0.257843        1.000000   0.061522  0.197980  \n",
       "4      0.210000      0.000000    1.000000        1.000000   0.082057  0.210892  "
      ]
     },
     "execution_count": 28,
     "metadata": {},
     "output_type": "execute_result"
    }
   ],
   "source": [
    "df_prob.head()"
   ]
  },
  {
   "cell_type": "markdown",
   "metadata": {},
   "source": [
    "## Clustering"
   ]
  },
  {
   "cell_type": "code",
   "execution_count": 29,
   "metadata": {},
   "outputs": [],
   "source": [
    "from sklearn.cluster import KMeans"
   ]
  },
  {
   "cell_type": "code",
   "execution_count": 30,
   "metadata": {},
   "outputs": [
    {
     "data": {
      "image/png": "[encoded data removed]",
      "text/plain": [
       "<matplotlib.figure.Figure at 0x15643c99438>"
      ]
     },
     "metadata": {
      "needs_background": "light"
     },
     "output_type": "display_data"
    }
   ],
   "source": [
    "Sum_of_squared_distances = []\n",
    "K = range(1,15)\n",
    "for k in K:\n",
    "    km = KMeans(n_clusters=k)\n",
    "    km = km.fit(df_prob.iloc[:,:9])\n",
    "    Sum_of_squared_distances.append(km.inertia_)\n",
    "\n",
    "plt.plot(K, Sum_of_squared_distances, 'bx-')\n",
    "plt.xlabel('k')\n",
    "plt.ylabel('Sum_of_squared_distances')\n",
    "plt.title('Elbow Method For Optimal k')\n",
    "plt.show()"
   ]
  },
  {
   "cell_type": "code",
   "execution_count": 31,
   "metadata": {},
   "outputs": [
    {
     "data": {
      "text/html": [
       "<div>\n",
       "<style>\n",
       "    .dataframe thead tr:only-child th {\n",
       "        text-align: right;\n",
       "    }\n",
       "\n",
       "    .dataframe thead th {\n",
       "        text-align: left;\n",
       "    }\n",
       "\n",
       "    .dataframe tbody tr th {\n",
       "        vertical-align: top;\n",
       "    }\n",
       "</style>\n",
       "<table border=\"1\" class=\"dataframe\">\n",
       "  <thead>\n",
       "    <tr style=\"text-align: right;\">\n",
       "      <th></th>\n",
       "      <th>INS Client</th>\n",
       "      <th>TRV Globalware</th>\n",
       "      <th>FSV Credit Card</th>\n",
       "      <th>FSV CMSI</th>\n",
       "      <th>FSV ID Theft</th>\n",
       "      <th>New Mover</th>\n",
       "      <th>FSV Deposit Program</th>\n",
       "      <th>FSV Mortgage</th>\n",
       "      <th>FSV Home Equity</th>\n",
       "      <th>Cost</th>\n",
       "      <th>Cluster</th>\n",
       "    </tr>\n",
       "  </thead>\n",
       "  <tbody>\n",
       "    <tr>\n",
       "      <th>0</th>\n",
       "      <td>0.305679</td>\n",
       "      <td>0.333981</td>\n",
       "      <td>1.000000</td>\n",
       "      <td>0.142777</td>\n",
       "      <td>0.001050</td>\n",
       "      <td>1.000000</td>\n",
       "      <td>0.000000</td>\n",
       "      <td>0.059980</td>\n",
       "      <td>0.0</td>\n",
       "      <td>0.583624</td>\n",
       "      <td>5</td>\n",
       "    </tr>\n",
       "    <tr>\n",
       "      <th>1</th>\n",
       "      <td>1.000000</td>\n",
       "      <td>0.348946</td>\n",
       "      <td>0.410358</td>\n",
       "      <td>0.144060</td>\n",
       "      <td>0.110182</td>\n",
       "      <td>0.126942</td>\n",
       "      <td>0.000000</td>\n",
       "      <td>0.009981</td>\n",
       "      <td>0.0</td>\n",
       "      <td>0.279380</td>\n",
       "      <td>0</td>\n",
       "    </tr>\n",
       "    <tr>\n",
       "      <th>2</th>\n",
       "      <td>0.322177</td>\n",
       "      <td>1.000000</td>\n",
       "      <td>0.243306</td>\n",
       "      <td>0.104114</td>\n",
       "      <td>0.460093</td>\n",
       "      <td>0.097713</td>\n",
       "      <td>0.073446</td>\n",
       "      <td>0.000000</td>\n",
       "      <td>0.0</td>\n",
       "      <td>0.136552</td>\n",
       "      <td>1</td>\n",
       "    </tr>\n",
       "    <tr>\n",
       "      <th>3</th>\n",
       "      <td>0.257843</td>\n",
       "      <td>1.000000</td>\n",
       "      <td>0.180294</td>\n",
       "      <td>0.164987</td>\n",
       "      <td>0.437676</td>\n",
       "      <td>0.061522</td>\n",
       "      <td>0.000000</td>\n",
       "      <td>0.000000</td>\n",
       "      <td>0.0</td>\n",
       "      <td>0.197980</td>\n",
       "      <td>1</td>\n",
       "    </tr>\n",
       "    <tr>\n",
       "      <th>4</th>\n",
       "      <td>1.000000</td>\n",
       "      <td>1.000000</td>\n",
       "      <td>0.595321</td>\n",
       "      <td>0.665527</td>\n",
       "      <td>0.210000</td>\n",
       "      <td>0.082057</td>\n",
       "      <td>0.000000</td>\n",
       "      <td>0.000000</td>\n",
       "      <td>0.1</td>\n",
       "      <td>0.210892</td>\n",
       "      <td>7</td>\n",
       "    </tr>\n",
       "  </tbody>\n",
       "</table>\n",
       "</div>"
      ],
      "text/plain": [
       "   INS Client  TRV Globalware  FSV Credit Card  FSV CMSI  FSV ID Theft  \\\n",
       "0    0.305679        0.333981         1.000000  0.142777      0.001050   \n",
       "1    1.000000        0.348946         0.410358  0.144060      0.110182   \n",
       "2    0.322177        1.000000         0.243306  0.104114      0.460093   \n",
       "3    0.257843        1.000000         0.180294  0.164987      0.437676   \n",
       "4    1.000000        1.000000         0.595321  0.665527      0.210000   \n",
       "\n",
       "   New Mover  FSV Deposit Program  FSV Mortgage  FSV Home Equity      Cost  \\\n",
       "0   1.000000             0.000000      0.059980              0.0  0.583624   \n",
       "1   0.126942             0.000000      0.009981              0.0  0.279380   \n",
       "2   0.097713             0.073446      0.000000              0.0  0.136552   \n",
       "3   0.061522             0.000000      0.000000              0.0  0.197980   \n",
       "4   0.082057             0.000000      0.000000              0.1  0.210892   \n",
       "\n",
       "   Cluster  \n",
       "0        5  \n",
       "1        0  \n",
       "2        1  \n",
       "3        1  \n",
       "4        7  "
      ]
     },
     "execution_count": 31,
     "metadata": {},
     "output_type": "execute_result"
    }
   ],
   "source": [
    "df_prob = df_prob[['INS Client', 'TRV Globalware', 'FSV Credit Card', \n",
    "                   'FSV CMSI', 'FSV ID Theft', 'New Mover', \n",
    "                   'FSV Deposit Program', 'FSV Mortgage', 'FSV Home Equity',\n",
    "                   'Cost']]\n",
    "\n",
    "kmeans = KMeans(n_clusters= 8, random_state=32).fit(df_prob.iloc[:,:9])\n",
    "df_prob['Cluster'] = kmeans.labels_\n",
    "df_prob.head()"
   ]
  },
  {
   "cell_type": "code",
   "execution_count": 32,
   "metadata": {},
   "outputs": [
    {
     "data": {
      "text/plain": [
       "0     484\n",
       "1     345\n",
       "2     347\n",
       "3    1091\n",
       "4     416\n",
       "5     191\n",
       "6     351\n",
       "7     286\n",
       "Name: Cluster, dtype: int64"
      ]
     },
     "execution_count": 32,
     "metadata": {},
     "output_type": "execute_result"
    }
   ],
   "source": [
    "df_prob['Cluster'].value_counts().sort_index()"
   ]
  },
  {
   "cell_type": "code",
   "execution_count": 33,
   "metadata": {
    "scrolled": true
   },
   "outputs": [
    {
     "name": "stdout",
     "output_type": "stream",
     "text": [
      "Wall time: 2.03 s\n"
     ]
    },
    {
     "data": {
      "image/png": "[encoded data removed]",
      "text/plain": [
       "<matplotlib.figure.Figure at 0x15643bcfdd8>"
      ]
     },
     "metadata": {
      "needs_background": "light"
     },
     "output_type": "display_data"
    }
   ],
   "source": [
    "%%time\n",
    "fig, axs = plt.subplots(3, 3, figsize=(12, 12), sharey=True)\n",
    "\n",
    "col = 0\n",
    "for i in range(3):\n",
    "    for j in range(3):\n",
    "        axs[i, j].scatter(df_prob['Cluster'], df_prob.iloc[:, col], \n",
    "                          c=df_prob['Cluster'], cmap='viridis', s=10)\n",
    "        axs[i, j].set_ylabel(df_prob.iloc[:, col].name)\n",
    "        axs[i, j].set_xlabel('Clusters')\n",
    "        col += 1"
   ]
  },
  {
   "cell_type": "code",
   "execution_count": 34,
   "metadata": {},
   "outputs": [],
   "source": [
    "# import seaborn as sns"
   ]
  },
  {
   "cell_type": "code",
   "execution_count": 35,
   "metadata": {},
   "outputs": [],
   "source": [
    "# sns.pairplot(data = df_prob,\n",
    "#              x_vars = ['Cluster'],\n",
    "#              y_vars=['INS Client', 'TRV Globalware', 'FSV Credit Card', \n",
    "#                    'FSV CMSI', 'FSV ID Theft', 'New Mover', \n",
    "#                    'FSV Deposit Program', 'FSV Mortgage', 'FSV Home Equity',\n",
    "#                    'Cost'], \n",
    "#              hue='Cluster')\n",
    "# plt.show()"
   ]
  },
  {
   "cell_type": "markdown",
   "metadata": {},
   "source": [
    "### Clustering Summary\n",
    "\n",
    "#### Number of Clusters\n",
    "- From the chart, it seems 3 or 6 clusters are the optimal choices, but 6 or less clusters don't actually reveal much product-level insights for business action.\n",
    "\n",
    "\n",
    "- When the households are clustered into **8 or 9 groups**, we can identify target audiences that shows high interest on a particular product for 7 products. \n",
    "\n",
    "\n",
    "- Clustering observation:\n",
    "    - 6 clusters -> target segment identified for 4 products\n",
    "    - 7 clusters -> target segment identified for 5 products\n",
    "    - 8 clusters -> target segment identified for 7 products\n",
    "    - 9 clusters -> target segment identified for 7 products\n",
    "\n",
    "#### Segmentation by Product\n",
    "- The two products that do not have a particular cluster standing out are FSV Mortgage and FSV Home Equity, which also have the lowest market peneratration. In general, the probability to purchase these two products are very low for all households. For these two products, we could simply focus on individual households with relatively higher probability of purchasing instead of a particular group.\n",
    "\n",
    "\n",
    "- Segment to product mapping:\n",
    "    - INS Client: Segment 0\n",
    "    - TRV Globalware: Segment 1\n",
    "    - FSV Credit Card: Segment 2\n",
    "    - FSV CMSI: Segment 7\n",
    "    - FSV ID Theft: Segment 4\n",
    "    - New Mover': Segment 5\n",
    "    - FSV Deposit Program: 6"
   ]
  },
  {
   "cell_type": "code",
   "execution_count": 45,
   "metadata": {
    "scrolled": true
   },
   "outputs": [
    {
     "data": {
      "text/html": [
       "<div>\n",
       "<style>\n",
       "    .dataframe thead tr:only-child th {\n",
       "        text-align: right;\n",
       "    }\n",
       "\n",
       "    .dataframe thead th {\n",
       "        text-align: left;\n",
       "    }\n",
       "\n",
       "    .dataframe tbody tr th {\n",
       "        vertical-align: top;\n",
       "    }\n",
       "</style>\n",
       "<table border=\"1\" class=\"dataframe\">\n",
       "  <thead>\n",
       "    <tr style=\"text-align: right;\">\n",
       "      <th></th>\n",
       "      <th>Avg Prob. of Purchase (Non Target HHs)</th>\n",
       "      <th>Avg Prob. of Purchase (Target HHs)</th>\n",
       "      <th>Product</th>\n",
       "      <th>Targeted Household Size</th>\n",
       "    </tr>\n",
       "  </thead>\n",
       "  <tbody>\n",
       "    <tr>\n",
       "      <th>0</th>\n",
       "      <td>0.221599</td>\n",
       "      <td>0.559983</td>\n",
       "      <td>FSV ID Theft</td>\n",
       "      <td>283</td>\n",
       "    </tr>\n",
       "    <tr>\n",
       "      <th>1</th>\n",
       "      <td>0.056600</td>\n",
       "      <td>0.607152</td>\n",
       "      <td>FSV Deposit Program</td>\n",
       "      <td>331</td>\n",
       "    </tr>\n",
       "    <tr>\n",
       "      <th>2</th>\n",
       "      <td>0.188363</td>\n",
       "      <td>0.650618</td>\n",
       "      <td>FSV CMSI</td>\n",
       "      <td>30</td>\n",
       "    </tr>\n",
       "    <tr>\n",
       "      <th>3</th>\n",
       "      <td>0.176433</td>\n",
       "      <td>0.670767</td>\n",
       "      <td>New Mover</td>\n",
       "      <td>9</td>\n",
       "    </tr>\n",
       "    <tr>\n",
       "      <th>4</th>\n",
       "      <td>0.334638</td>\n",
       "      <td>0.672284</td>\n",
       "      <td>FSV Credit Card</td>\n",
       "      <td>24</td>\n",
       "    </tr>\n",
       "    <tr>\n",
       "      <th>5</th>\n",
       "      <td>0.387105</td>\n",
       "      <td>0.686169</td>\n",
       "      <td>TRV Globalware</td>\n",
       "      <td>2</td>\n",
       "    </tr>\n",
       "    <tr>\n",
       "      <th>6</th>\n",
       "      <td>0.435476</td>\n",
       "      <td>0.718347</td>\n",
       "      <td>INS Client</td>\n",
       "      <td>2</td>\n",
       "    </tr>\n",
       "  </tbody>\n",
       "</table>\n",
       "</div>"
      ],
      "text/plain": [
       "   Avg Prob. of Purchase (Non Target HHs)  Avg Prob. of Purchase (Target HHs)  \\\n",
       "0                                0.221599                            0.559983   \n",
       "1                                0.056600                            0.607152   \n",
       "2                                0.188363                            0.650618   \n",
       "3                                0.176433                            0.670767   \n",
       "4                                0.334638                            0.672284   \n",
       "5                                0.387105                            0.686169   \n",
       "6                                0.435476                            0.718347   \n",
       "\n",
       "               Product  Targeted Household Size  \n",
       "0         FSV ID Theft                      283  \n",
       "1  FSV Deposit Program                      331  \n",
       "2             FSV CMSI                       30  \n",
       "3            New Mover                        9  \n",
       "4      FSV Credit Card                       24  \n",
       "5       TRV Globalware                        2  \n",
       "6           INS Client                        2  "
      ]
     },
     "execution_count": 45,
     "metadata": {},
     "output_type": "execute_result"
    }
   ],
   "source": [
    "segments= {'INS Client': 0,\n",
    "           'TRV Globalware': 1,\n",
    "           'FSV Credit Card': 2,\n",
    "           'FSV CMSI': 7,\n",
    "           'FSV ID Theft': 4,\n",
    "           'New Mover': 5,\n",
    "           'FSV Deposit Program': 6}\n",
    "lst_product = []\n",
    "lst_HH_size = []\n",
    "lst_prob_target = []\n",
    "lst_prob_non_target = []\n",
    "for k in segments:\n",
    "    df_target = df_prob[(df_prob['Cluster'] == segments[k]) & (df_prob[k] != 1)]\n",
    "    df_non_target = df_prob[(df_prob['Cluster'] != segments[k])]\n",
    "    \n",
    "    lst_product.append(k)\n",
    "    lst_HH_size.append(len(df_target))\n",
    "    lst_prob_target.append(df_target[k].mean())\n",
    "    lst_prob_non_target.append(df_non_target[k].mean())\n",
    "    \n",
    "df_segment_summary = pd.DataFrame({'Product': lst_product,\n",
    "                                   'Targeted Household Size': lst_HH_size,\n",
    "                                   'Avg Prob. of Purchase (Target HHs)': lst_prob_target,\n",
    "                                   'Avg Prob. of Purchase (Non Target HHs)': lst_prob_non_target})\n",
    "df_segment_summary"
   ]
  },
  {
   "cell_type": "markdown",
   "metadata": {},
   "source": [
    "\n",
    "                   \n",
    "#### Cost\n",
    "- In addition, predicted cost does not have any noticeable difference across clusters, partly because cost is hard to predict. The cost could possibly be generated randomly as a customer only needs it in emergency."
   ]
  },
  {
   "cell_type": "code",
   "execution_count": 37,
   "metadata": {},
   "outputs": [
    {
     "data": {
      "image/png": "[encoded data removed]",
      "text/plain": [
       "<matplotlib.figure.Figure at 0x15646b93470>"
      ]
     },
     "metadata": {
      "needs_background": "light"
     },
     "output_type": "display_data"
    }
   ],
   "source": [
    "plt.scatter(df_prob['Cluster'], df_prob['Cost'], \n",
    "            c=df_prob['Cluster'], cmap='viridis', s=10)\n",
    "plt.ylabel('Cost')\n",
    "plt.xlabel('Clusters')\n",
    "plt.show()"
   ]
  },
  {
   "cell_type": "markdown",
   "metadata": {},
   "source": [
    "## Appendix\n",
    "Applying other models - using 'INS Client' as an example."
   ]
  },
  {
   "cell_type": "code",
   "execution_count": 38,
   "metadata": {},
   "outputs": [],
   "source": [
    "from sklearn.preprocessing import MinMaxScaler\n",
    "\n",
    "from sklearn.neighbors import KNeighborsClassifier\n",
    "from sklearn.svm import SVC\n",
    "from sklearn.svm import LinearSVC\n",
    "from sklearn.ensemble import RandomForestClassifier, AdaBoostClassifier"
   ]
  },
  {
   "cell_type": "code",
   "execution_count": 39,
   "metadata": {},
   "outputs": [],
   "source": [
    "# Up Sampling\n",
    "# Separate majority and minority classes\n",
    "df_majority = df[df['INS Client']==0]\n",
    "df_minority = df[df['INS Client']==1]\n",
    "\n",
    "# Upsample minority class\n",
    "df_minority_upsampled = resample(df_minority, replace=True, \n",
    "                                 n_samples=len(df_majority), random_state=72)\n",
    "df_upsampled = pd.concat([df_majority, df_minority_upsampled])\n",
    "    \n",
    "cols = [x for x in df_upsampled.columns if (x not in product_list\n",
    "                                           ) & (x not in ['Household Key', 'Total Cost sum'])]\n",
    "\n",
    "X = df_upsampled[cols]\n",
    "# Scale \n",
    "scaler = MinMaxScaler()\n",
    "scaler.fit(X)\n",
    "df_scaled = scaler.transform(X)\n",
    "\n",
    "y = df_upsampled['INS Client']\n",
    "\n",
    "X_train, X_test, y_train, y_test = train_test_split(X, y, test_size=0.2, stratify=y, random_state=75)"
   ]
  },
  {
   "cell_type": "markdown",
   "metadata": {},
   "source": [
    "#### kNN"
   ]
  },
  {
   "cell_type": "code",
   "execution_count": 40,
   "metadata": {},
   "outputs": [
    {
     "name": "stdout",
     "output_type": "stream",
     "text": [
      "Best Number of Neighbors: {'n_neighbors': 9}\n",
      "Accuracy on Training Set: 0.5888475836431226\n",
      "Accuracy on Test Set: 0.5966303270564915\n",
      "AUC: 0.6263004871915763\n",
      "Wall time: 1min 31s\n"
     ]
    }
   ],
   "source": [
    "%%time\n",
    "param_grid = {'n_neighbors': np.arange(8, 20)}\n",
    "gs_kNN = GridSearchCV(KNeighborsClassifier(), param_grid, cv=5)\n",
    "gs_kNN.fit(X_train, y_train)\n",
    "print(\"Best Number of Neighbors:\", gs_kNN.best_params_)\n",
    "print(\"Accuracy on Training Set:\", gs_kNN.best_score_)\n",
    "\n",
    "y_pred_prob = gs_kNN.predict_proba(X_test)[:,1]\n",
    "print(\"Accuracy on Test Set:\", gs_kNN.score(X_test, y_test))\n",
    "print(\"AUC:\", roc_auc_score(y_test, y_pred_prob))"
   ]
  },
  {
   "cell_type": "markdown",
   "metadata": {},
   "source": [
    "#### Logistic Regression"
   ]
  },
  {
   "cell_type": "code",
   "execution_count": 41,
   "metadata": {},
   "outputs": [
    {
     "name": "stdout",
     "output_type": "stream",
     "text": [
      "Best Parameters: {'C': 0.0001, 'max_iter': 1000, 'tol': 10}\n",
      "Accuracy on Training Set: 0.5563816604708798\n",
      "Accuracy on Test Set: 0.5441030723488602\n",
      "AUC: 0.5618890460474619\n",
      "Wall time: 39.7 s\n"
     ]
    }
   ],
   "source": [
    "%%time\n",
    "param_grid = {'C': [15-6, 1e-5, 1e-4], \n",
    "              'tol': [10, 1, 0.1], \n",
    "              'max_iter': [1000, 1500]}\n",
    "gs_lr = GridSearchCV(LogisticRegression(), param_grid, cv=5)\n",
    "gs_lr.fit(X_train, y_train)\n",
    "print(\"Best Parameters:\", gs_lr.best_params_)\n",
    "print(\"Accuracy on Training Set:\", gs_lr.best_score_)\n",
    "\n",
    "y_pred_prob = gs_lr.predict_proba(X_test)[:,1]\n",
    "print(\"Accuracy on Test Set:\", gs_lr.score(X_test, y_test))\n",
    "print(\"AUC:\", roc_auc_score(y_test, y_pred_prob))"
   ]
  },
  {
   "cell_type": "markdown",
   "metadata": {},
   "source": [
    "#### SVM\n",
    "SVM takes too much time to train."
   ]
  },
  {
   "cell_type": "markdown",
   "metadata": {},
   "source": [
    "#### Random Forest"
   ]
  },
  {
   "cell_type": "code",
   "execution_count": 42,
   "metadata": {},
   "outputs": [
    {
     "name": "stdout",
     "output_type": "stream",
     "text": [
      "Best Parameters: {'max_depth': 5, 'max_features': 'sqrt', 'n_estimators': 50}\n",
      "Accuracy on Training Set: 0.6123915737298637\n",
      "Accuracy on Test Set: 0.6095143706640238\n",
      "AUC: 0.6415880873801665\n",
      "Wall time: 1min 6s\n"
     ]
    }
   ],
   "source": [
    "%%time\n",
    "param_grid = {'n_estimators':[50, 100, 150],\n",
    "              'max_depth': [3, 5], \n",
    "              'max_features': ['auto', 'sqrt']}\n",
    "rf = RandomForestClassifier()\n",
    "gs_rf = GridSearchCV(rf, param_grid, cv=5)\n",
    "gs_rf.fit(X_train, np.ravel(y_train))\n",
    "print(\"Best Parameters:\", gs_rf.best_params_)\n",
    "print(\"Accuracy on Training Set:\", gs_rf.best_score_)\n",
    "\n",
    "y_pred_prob = gs_rf.predict_proba(X_test)[:,1]\n",
    "print(\"Accuracy on Test Set:\", gs_rf.score(X_test, y_test))\n",
    "print(\"AUC:\", roc_auc_score(y_test, y_pred_prob))"
   ]
  },
  {
   "cell_type": "code",
   "execution_count": 43,
   "metadata": {},
   "outputs": [
    {
     "data": {
      "text/plain": [
       "0.0    597\n",
       "1.0    412\n",
       "dtype: int64"
      ]
     },
     "execution_count": 43,
     "metadata": {},
     "output_type": "execute_result"
    }
   ],
   "source": [
    "y_pred = gs_rf.predict(X_test)\n",
    "pd.Series(y_pred).value_counts()"
   ]
  }
 ],
 "metadata": {
  "kernelspec": {
   "display_name": "Python 3",
   "language": "python",
   "name": "python3"
  },
  "language_info": {
   "codemirror_mode": {
    "name": "ipython",
    "version": 3
   },
   "file_extension": ".py",
   "mimetype": "text/x-python",
   "name": "python",
   "nbconvert_exporter": "python",
   "pygments_lexer": "ipython3",
   "version": "3.8.7"
  }
 },
 "nbformat": 4,
 "nbformat_minor": 2
}
